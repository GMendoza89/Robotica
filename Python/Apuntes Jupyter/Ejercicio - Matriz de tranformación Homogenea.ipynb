{
 "cells": [
  {
   "cell_type": "markdown",
   "metadata": {},
   "source": [
    "# Ejercicio de Matriz de Transformación Homogénea #\n",
    "\n",
    "\n",
    "Solución al ejercicio propuesto en clase de Matriz de transformación Homogénea"
   ]
  },
  {
   "cell_type": "markdown",
   "metadata": {},
   "source": [
    "La imagen de la figura representa un sencillo brazo manipulador con 3 grados de libertad que trabaja en el plano xy.<br>\n",
    "<img src=\"img/actividad1_fig1.png\" width=\"400\"><br>\n",
    "Si se sabe que la posición del objeto es [20, 0] con respecto al marco de referencia del actuador final **ee**. ¿cuáles son sus coordenadas respecto de al marco de referencia de la **base** del robot?"
   ]
  },
  {
   "cell_type": "markdown",
   "metadata": {},
   "source": [
    "Para resolver este problema lo primero que tenemos que analizar el la matriz de transformación homogénea que nos transforme de la base al actuador final. es decir:"
   ]
  },
  {
   "cell_type": "markdown",
   "metadata": {},
   "source": [
    "$ ^{base} P =  \\left( ^{base} \\xi_{j_{1}} \\oplus  ^{j_{1}} \\xi_{j_{2}} \\oplus  ^{j_{2}} \\xi_{ee} \\right)  \\bullet  ^{ee}P$"
   ]
  },
  {
   "cell_type": "markdown",
   "metadata": {},
   "source": [
    "La matriz de transformación homogénea que define $ ^{base} \\xi_{j1}$ esta dada por: "
   ]
  },
  {
   "cell_type": "markdown",
   "metadata": {},
   "source": [
    "$ ^{base} \\xi_{j1} = \\begin{bmatrix}\n",
    "\\cos \\left( \\theta \\right) \\ & - \\sin \\left( \\theta \\right) & T_{x}\\\\\n",
    "\\sin \\left( \\theta \\right) \\ & \\cos \\left( \\theta \\right) & T_{y}\\\\\n",
    "0 & 0 & 1\n",
    "\\end{bmatrix}$ "
   ]
  },
  {
   "cell_type": "markdown",
   "metadata": {},
   "source": [
    "donde ahora hay que calcular los valores para $\\theta$ y el vector de traslación $ \\vec{T}$."
   ]
  },
  {
   "cell_type": "markdown",
   "metadata": {},
   "source": [
    "<br>\n",
    "<img src=\"img\\actividad1_fig1_base_j1.png\" width=\"400\"><br>"
   ]
  },
  {
   "cell_type": "markdown",
   "metadata": {},
   "source": [
    "Observando la imagen anterior, observamos que el vector de desplazamiento va lo largo de la longitud del brazo con la une base y j1, por lo tanto podemos definir el vector como:"
   ]
  },
  {
   "cell_type": "markdown",
   "metadata": {},
   "source": [
    "$\\vec{T} = 100 \\cos(120^{\\circ}) + 100 \\sin(120^{\\circ})$"
   ]
  },
  {
   "cell_type": "markdown",
   "metadata": {},
   "source": [
    "En cuanto a la rotación, en la figura anterior podemos observar que si trasladamos un marco de referencia nuevo, que tenga la posición del marco de referencia j1, pero que este tenga la misma rotación que el marco de referencia de la base, es mas fácil notar cuanto es el angulo de rotación, el cual es de $ 120^{\\circ} - 90^{\\circ} = 30 ^{\\circ}$ y por lo tanto con estos valores podemos construir la matriz como:"
   ]
  },
  {
   "cell_type": "markdown",
   "metadata": {},
   "source": [
    "$ ^{base} \\xi_{j1} = \\begin{bmatrix}\n",
    "\\cos \\left( 30 ^{\\circ} \\right)  & - \\sin \\left( 30 ^{\\circ} \\right) & 100 \\cos(120^{\\circ})\\\\\n",
    "\\sin \\left( 30 ^{\\circ} \\right)  &   \\cos \\left( 30 ^{\\circ} \\right) & 100 \\sin(120^{\\circ}) \\\\\n",
    "0 & 0 & 1\n",
    "\\end{bmatrix}$ "
   ]
  },
  {
   "cell_type": "markdown",
   "metadata": {},
   "source": [
    "A la par de la solución del problema, vamos a ir escribiendo el código necesario para resolver el problema en el lenguaje de programación de python. Primero necesitamos importar los módulos necesarios, en este caso van a ser dos, el módulo **numpy**, por medio del cual vamos a definir las matrices como arreglos, ademas de contar con funciones funciones trigonométricas y con funciones de multiplicación de matrices. El segundo módulo a utilizar es **pyplot** incluido en el paquete de **matplotlib**, el cual nos va ayudar a ver en una gráfica los punto necesarios."
   ]
  },
  {
   "cell_type": "code",
   "execution_count": 1,
   "metadata": {},
   "outputs": [],
   "source": [
    "import numpy as np \n",
    "from matplotlib import pyplot as plt \n"
   ]
  },
  {
   "cell_type": "markdown",
   "metadata": {},
   "source": [
    "ahora para cilitar la elavoración de las matrices, vamos a crear una función que nos devuelva una matriz de trasformación homogénea en 2 dimensiones, la cual recibirá como argumento el angulo **theta** de la rotación, el los puntos **$T_{x}$** y **$T_{y}$** de la traslación"
   ]
  },
  {
   "cell_type": "code",
   "execution_count": 2,
   "metadata": {},
   "outputs": [],
   "source": [
    "def matTransHom2D(Theta, Tx, Ty):\n",
    "    return np.array([[np.cos(Theta), -np.sin(Theta), Tx],\n",
    "                     [np.sin(Theta), np.cos(Theta), Ty],\n",
    "                     [0, 0, 1]])\n",
    "\n"
   ]
  },
  {
   "cell_type": "markdown",
   "metadata": {},
   "source": [
    "Ahora que tenemos la función vamos a emplearla para definir la primer matriz de transformación que ya definimos es decir $^{base} \\xi_{j1}$, es importante resaltar que el módulo numpy, utilizas los ángulos en radianes, por lo que habrá que hacer la conversión, recordando que radianes son:\n"
   ]
  },
  {
   "cell_type": "markdown",
   "metadata": {},
   "source": [
    "$ angulo_{radian} = \\frac{ \\pi * angulo_{grados}  }{180}$"
   ]
  },
  {
   "cell_type": "code",
   "execution_count": 3,
   "metadata": {},
   "outputs": [
    {
     "name": "stdout",
     "output_type": "stream",
     "text": [
      "[[  0.8660254   -0.5        -50.        ]\n",
      " [  0.5          0.8660254   86.60254038]\n",
      " [  0.           0.           1.        ]]\n"
     ]
    }
   ],
   "source": [
    "theta = 30*np.pi/180\n",
    "tx = 100*np.cos(120*np.pi/180)\n",
    "ty = 100*np.sin(120*np.pi/180)\n",
    "b_Xi_j1 = matTransHom2D(theta,tx ,ty)\n",
    "print(b_Xi_j1)"
   ]
  },
  {
   "cell_type": "markdown",
   "metadata": {},
   "source": [
    "Ya que tenemos la primer matriz de transformación, ahora sigue definir la que corresponde a $ ^{j1} \\xi_{j2}$"
   ]
  },
  {
   "cell_type": "markdown",
   "metadata": {},
   "source": [
    "<br><img src=\"img/actividad1_fig1_j1_j2.png\" width=\"400\"><br>"
   ]
  },
  {
   "cell_type": "markdown",
   "metadata": {},
   "source": [
    "Si nos centramos solamente en la imagen que nos muestra las posiciones de estas dos uniones, es fácil observar que el ángulo de rotación es 0 y que **j2** solamente esta traslado sobre el eje de las X1 en 100 unidades con relación a **j1** por lo tanto la matriz de transformación nos queda como:"
   ]
  },
  {
   "cell_type": "markdown",
   "metadata": {},
   "source": [
    "$ ^{j1} \\xi_{j2} = \\begin{bmatrix}\n",
    "\\cos \\left( 0 \\right)  & - \\sin \\left(0 \\right) & 100 \\\\\n",
    "\\sin \\left( 0 \\right)  &   \\cos \\left( 0 \\right) & 0 \\\\\n",
    "0 & 0 & 1\n",
    "\\end{bmatrix}$ "
   ]
  },
  {
   "cell_type": "markdown",
   "metadata": {},
   "source": [
    "Ya que tenemos los puntos el angulo y la traslación vamos a volver a utilizar la función creada anteriormente para generar la nueva matriz de transformación"
   ]
  },
  {
   "cell_type": "code",
   "execution_count": 4,
   "metadata": {},
   "outputs": [
    {
     "name": "stdout",
     "output_type": "stream",
     "text": [
      "[[  1.  -0. 100.]\n",
      " [  0.   1.   0.]\n",
      " [  0.   0.   1.]]\n"
     ]
    }
   ],
   "source": [
    "theta = 0*np.pi/180\n",
    "tx = 100\n",
    "ty = 0\n",
    "j1_Xi_j2 = matTransHom2D(theta,tx,ty)\n",
    "print(j1_Xi_j2)\n"
   ]
  },
  {
   "cell_type": "markdown",
   "metadata": {},
   "source": [
    "Ahora vamos a definir la transformación que va de la **base** a **j1**, es decir:"
   ]
  },
  {
   "cell_type": "markdown",
   "metadata": {},
   "source": [
    "$^{base} \\xi_{j2} = ^{base} \\xi_{j_{1}} \\oplus  ^{j_{1}} \\xi_{j_{2}} $"
   ]
  },
  {
   "cell_type": "markdown",
   "metadata": {},
   "source": [
    "Lo cual se realiza multiplicando la matriz de transformación que corresponde a $^{base} \\xi_{j_{1}}$ con la matriz de transformación de  $^{j_{1}} \\xi_{j_{2}}$.\n",
    "En python esto es muy fácil ya que la clase **array** que usamos en la definición de la matrices, \n",
    "tiene un método llamando **dot()**, \n",
    "el cual realiza la multiplicación de esa matriz, \n",
    "con otra que se ponga dentro de los paréntesis. \n",
    "Por lo tanto podemos definir la transformación $^{base} \\xi_{j2}$ como:"
   ]
  },
  {
   "cell_type": "code",
   "execution_count": 5,
   "metadata": {},
   "outputs": [
    {
     "name": "stdout",
     "output_type": "stream",
     "text": [
      "[[  0.8660254   -0.5         36.60254038]\n",
      " [  0.5          0.8660254  136.60254038]\n",
      " [  0.           0.           1.        ]]\n"
     ]
    }
   ],
   "source": [
    "b_Xi_j2 = b_Xi_j1.dot(j1_Xi_j2)\n",
    "print(b_Xi_j2)"
   ]
  },
  {
   "cell_type": "markdown",
   "metadata": {},
   "source": [
    "Donde podemos observar que los valores mostrados corresponden a los elementos de la matriz anterior,\n",
    "para verificar que los valores calculador corresponden vamos a graficar los puntos obtenidos, \n",
    "primero marcaremos en la gráfica el punto de la base"
   ]
  },
  {
   "cell_type": "code",
   "execution_count": 6,
   "metadata": {},
   "outputs": [
    {
     "data": {
      "text/plain": [
       "[<matplotlib.lines.Line2D at 0x111e78a10>]"
      ]
     },
     "execution_count": 6,
     "metadata": {},
     "output_type": "execute_result"
    },
    {
     "data": {
      "image/png": "[encoded data removed]",
      "text/plain": [
       "<Figure size 640x480 with 1 Axes>"
      ]
     },
     "metadata": {},
     "output_type": "display_data"
    }
   ],
   "source": [
    "plt.plot(0,0,'o')"
   ]
  },
  {
   "cell_type": "markdown",
   "metadata": {},
   "source": [
    "Ahora incluiremos los puntos obtenidos para **j1**"
   ]
  },
  {
   "cell_type": "code",
   "execution_count": 7,
   "metadata": {},
   "outputs": [
    {
     "data": {
      "text/plain": [
       "[<matplotlib.lines.Line2D at 0x1120d4150>]"
      ]
     },
     "execution_count": 7,
     "metadata": {},
     "output_type": "execute_result"
    },
    {
     "data": {
      "image/png": "[encoded data removed]",
      "text/plain": [
       "<Figure size 640x480 with 1 Axes>"
      ]
     },
     "metadata": {},
     "output_type": "display_data"
    }
   ],
   "source": [
    "plt.plot(0,0,'o')\n",
    "plt.plot(b_Xi_j1[0,2],b_Xi_j1[1,2],'o')"
   ]
  },
  {
   "cell_type": "markdown",
   "metadata": {},
   "source": [
    "Despues pondemos una linea que conecte al punto de la **base** con el punto de **j1**"
   ]
  },
  {
   "cell_type": "code",
   "execution_count": 8,
   "metadata": {},
   "outputs": [
    {
     "data": {
      "text/plain": [
       "[<matplotlib.lines.Line2D at 0x11219bc90>]"
      ]
     },
     "execution_count": 8,
     "metadata": {},
     "output_type": "execute_result"
    },
    {
     "data": {
      "image/png": "[encoded data removed]",
      "text/plain": [
       "<Figure size 640x480 with 1 Axes>"
      ]
     },
     "metadata": {},
     "output_type": "display_data"
    }
   ],
   "source": [
    "plt.plot(0,0,'o')\n",
    "plt.plot(b_Xi_j1[0,2],b_Xi_j1[1,2],'o')\n",
    "plt.plot([0,b_Xi_j1[0,2]],[0,b_Xi_j1[1,2]])"
   ]
  },
  {
   "cell_type": "markdown",
   "metadata": {},
   "source": [
    "Ahora para darle mas forma, vamos a incluir el punto correspondiente a **j2**,\n",
    "es importante tomar en cuenta que la traslación del punto se debe de tomar de la referencia de $^{base} \\xi_{j2}$, \n",
    "ya que la referencia de la gráfica, \n",
    "es la correspondiente a la **base**, \n",
    "y si se tomaran la traslación en la matriz de $^{j1} \\xi_{j2}$, \n",
    "las coordenadas serian incorrectas.\n",
    "Por lo tanto podemos verificar que nuestra matriz de transformación $^{base} \\xi_{j2}$ es correcta si incluimos los puntos y trazamos la linea que los conecta. "
   ]
  },
  {
   "cell_type": "code",
   "execution_count": 9,
   "metadata": {},
   "outputs": [
    {
     "data": {
      "text/plain": [
       "[<matplotlib.lines.Line2D at 0x1121bae90>]"
      ]
     },
     "execution_count": 9,
     "metadata": {},
     "output_type": "execute_result"
    },
    {
     "data": {
      "image/png": "[encoded data removed]",
      "text/plain": [
       "<Figure size 640x480 with 1 Axes>"
      ]
     },
     "metadata": {},
     "output_type": "display_data"
    }
   ],
   "source": [
    "plt.plot(0,0,'o')\n",
    "plt.plot(b_Xi_j1[0,2],b_Xi_j1[1,2],'o')\n",
    "plt.plot(b_Xi_j2[0,2],b_Xi_j2[1,2],'o')\n",
    "plt.plot([0,b_Xi_j1[0,2],b_Xi_j2[0,2]],[0,b_Xi_j1[1,2],b_Xi_j2[1,2]])"
   ]
  },
  {
   "cell_type": "markdown",
   "metadata": {},
   "source": [
    "Por ultimo vamos a definir la última matriz de transformación, \n",
    "la cual corresponde a $^{j2} \\xi_{ee}$ y es igual a:"
   ]
  },
  {
   "cell_type": "markdown",
   "metadata": {},
   "source": [
    "$^{j2} \\xi_{ee} = \\begin{bmatrix}\n",
    "\\cos \\left( -45 \\right)  & - \\sin \\left( -45 \\right) & 50 \\cos \\left( -45 \\right) \\\\\n",
    "\\sin \\left( -45 \\right)  &   \\cos \\left( -45 \\right) & 50 \\sin \\left( -45 \\right) \\\\\n",
    "0 & 0 & 1\n",
    "\\end{bmatrix}$"
   ]
  },
  {
   "cell_type": "markdown",
   "metadata": {},
   "source": [
    "<br><img src=\"img/actividad1_fig1_j2_ee.png\" width=\"400\"><br>"
   ]
  },
  {
   "cell_type": "code",
   "execution_count": 10,
   "metadata": {},
   "outputs": [
    {
     "name": "stdout",
     "output_type": "stream",
     "text": [
      "[[  0.70710678   0.70710678  35.35533906]\n",
      " [ -0.70710678   0.70710678 -35.35533906]\n",
      " [  0.           0.           1.        ]]\n"
     ]
    }
   ],
   "source": [
    "theta = -45*np.pi/180\n",
    "tx = 50*np.cos(-45*np.pi/180)\n",
    "ty = 50*np.sin(-45*np.pi/180)\n",
    "j2_Xi_ee = matTransHom2D(theta, tx,ty)\n",
    "print(j2_Xi_ee)"
   ]
  },
  {
   "cell_type": "markdown",
   "metadata": {},
   "source": [
    "Ahora calculamos la matriz de transformación que corresponde a la **base** con el actuador final **ee** es decir:"
   ]
  },
  {
   "cell_type": "markdown",
   "metadata": {},
   "source": [
    " $^{base} \\xi_{ee} = ^{base} \\xi_{j_{1}} \\oplus  ^{j_{1}} \\xi_{j_{2}} \\oplus  ^{j_{2}} \\xi_{ee} $"
   ]
  },
  {
   "cell_type": "markdown",
   "metadata": {},
   "source": [
    "para lo cual vamos a utilizar la matriz que define transformación de $^{base} \\xi_{j2}$,\n",
    "la cual se va a multiplicar por la transformación calculada de $^{j2} \\xi_{ee}$"
   ]
  },
  {
   "cell_type": "code",
   "execution_count": 11,
   "metadata": {},
   "outputs": [
    {
     "name": "stdout",
     "output_type": "stream",
     "text": [
      "[[  0.96592583   0.25881905  84.89883169]\n",
      " [ -0.25881905   0.96592583 123.66158812]\n",
      " [  0.           0.           1.        ]]\n"
     ]
    }
   ],
   "source": [
    "b_Xi_ee = b_Xi_j2.dot(j2_Xi_ee)\n",
    "print(b_Xi_ee)"
   ]
  },
  {
   "cell_type": "markdown",
   "metadata": {},
   "source": [
    "Ahora que ya tenemos la trasformación de **base** a **ee**,\n",
    "se puede obtener las coordenadas del punto **P** desde el marco de referencia de la **base**,\n",
    "es decir $ ^{base} P$,\n",
    "el cual es igual al producto de la transformación $^{base} \\xi_{ee} ^{ee}P$.\n",
    "Donde el punto $^{ee}P$, \n",
    "corresponde al vector de:\n",
    " "
   ]
  },
  {
   "cell_type": "markdown",
   "metadata": {},
   "source": [
    "$^{ee}P = \\begin{bmatrix}\n",
    "20  \\\\\n",
    "0 \\\\\n",
    "1\n",
    "\\end{bmatrix}$"
   ]
  },
  {
   "cell_type": "markdown",
   "metadata": {},
   "source": [
    "y por lo tanto $^{base}P$ es igual a:"
   ]
  },
  {
   "cell_type": "markdown",
   "metadata": {},
   "source": [
    "$^{ee}P =\\begin{bmatrix}\n",
    "0.9659 & 0.2588 & 84.89  \\\\\n",
    "-0.2588 & 0.9659 & 123.66 \\\\\n",
    "0 & 0 & 1\n",
    "\\end{bmatrix} \\begin{bmatrix}\n",
    "20  \\\\\n",
    "0 \\\\\n",
    "1\n",
    "\\end{bmatrix}$"
   ]
  },
  {
   "cell_type": "markdown",
   "metadata": {},
   "source": [
    "Primero definiremos el vector correspondiente al punto $^{ee}P$,\n",
    "con la ayuda de las clases **array** de numpy"
   ]
  },
  {
   "cell_type": "code",
   "execution_count": 12,
   "metadata": {},
   "outputs": [
    {
     "name": "stdout",
     "output_type": "stream",
     "text": [
      "[[20]\n",
      " [ 0]\n",
      " [ 1]]\n"
     ]
    }
   ],
   "source": [
    "eeP = np.array([[20],\n",
    "                [0],\n",
    "                [1]])\n",
    "print(eeP)"
   ]
  },
  {
   "cell_type": "markdown",
   "metadata": {},
   "source": [
    "Ahora realizaremos el producto $^{base} \\xi_{ee} ^{ee}P$"
   ]
  },
  {
   "cell_type": "code",
   "execution_count": 13,
   "metadata": {},
   "outputs": [
    {
     "name": "stdout",
     "output_type": "stream",
     "text": [
      "[[104.21734822]\n",
      " [118.48520722]\n",
      " [  1.        ]]\n"
     ]
    }
   ],
   "source": [
    "b_P = b_Xi_ee.dot(eeP)\n",
    "print(b_P)"
   ]
  },
  {
   "cell_type": "markdown",
   "metadata": {},
   "source": [
    "Por lo tanto las coordenadas del punto vistos desde la base son $\\left( 104.21, 118.48 \\right)$.\n",
    "Para comprobar que el resultado sea correcto graficamos todos los puntos y marcamos con el signo **+**, \n",
    "el punto correspondiente al objeto."
   ]
  },
  {
   "cell_type": "code",
   "execution_count": 14,
   "metadata": {},
   "outputs": [
    {
     "data": {
      "image/png": "[encoded data removed]",
      "text/plain": [
       "<Figure size 640x480 with 1 Axes>"
      ]
     },
     "metadata": {},
     "output_type": "display_data"
    }
   ],
   "source": [
    "fig, axes = plt.subplots()\n",
    "plt.plot(0,0,'o')\n",
    "plt.plot(b_Xi_j1[0,2],b_Xi_j1[1,2],'o')\n",
    "plt.plot(b_Xi_j2[0,2],b_Xi_j2[1,2],'o')\n",
    "plt.plot(b_Xi_ee[0,2],b_Xi_ee[1,2],'o')\n",
    "plt.plot(b_P[0,0],b_P[1,0],'+')\n",
    "\n",
    "plt.plot([0,b_Xi_j1[0,2],b_Xi_j2[0,2],b_Xi_ee[0,2]],[0,b_Xi_j1[1,2],b_Xi_j2[1,2],b_Xi_ee[1,2]])\n",
    "\n",
    "axes.set_xlim(-140,140)\n",
    "axes.set_ylim(0 , 140)\n",
    "plt.show()"
   ]
  },
  {
   "cell_type": "markdown",
   "metadata": {},
   "source": [
    "Donde podemos observar que la imagen generada corresponde de forma muy similar a la figura mostrada por el ejemplo."
   ]
  },
  {
   "cell_type": "markdown",
   "metadata": {},
   "source": [
    "Ahora resuelve el siguiente ejercicio: \\\\\n",
    "La imagen de la figura representa un sencillo brazo manipulador con 3 grados de libertad que trabaja en el plano xy.<br>\n",
    "<img src=\"img/actividad1_fig2.png\" width=\"400\"><br>\n",
    "Si se sabe que la posición del objeto es [20, 10] con respecto al marco de referencia del actuador final **ee**. ¿cuáles son sus coordenadas respecto de al barco de referencia de la **base** del robot?"
   ]
  },
  {
   "cell_type": "markdown",
   "metadata": {},
   "source": [
    "figura de ejercicio inicial y de ejercicio encargado así como el ejercicio, fue tomado del canal de YouTuBe https://www.youtube.com/channel/UCTXsT30VF8S9XphEOjUYHrg. La solución, códigos, recortes y gráficas de imágenes fueron creadas por mi, Ing. Gustavo David Mendoza Pinto."
   ]
  }
 ],
 "metadata": {
  "kernelspec": {
   "display_name": "Python 3",
   "language": "python",
   "name": "python3"
  },
  "language_info": {
   "codemirror_mode": {
    "name": "ipython",
    "version": 3
   },
   "file_extension": ".py",
   "mimetype": "text/x-python",
   "name": "python",
   "nbconvert_exporter": "python",
   "pygments_lexer": "ipython3",
   "version": "3.11.1"
  }
 },
 "nbformat": 4,
 "nbformat_minor": 2
}
